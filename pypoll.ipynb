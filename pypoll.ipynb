{
 "cells": [
  {
   "cell_type": "code",
   "execution_count": 3,
   "metadata": {},
   "outputs": [],
   "source": [
    "import streamlit as st"
   ]
  },
  {
   "cell_type": "code",
   "execution_count": null,
   "metadata": {},
   "outputs": [],
   "source": [
    "st.cache()"
   ]
  },
  {
   "cell_type": "code",
   "execution_count": 2,
   "metadata": {},
   "outputs": [
    {
     "ename": "AttributeError",
     "evalue": "module 'streamlit.caching' has no attribute 'clear'",
     "output_type": "error",
     "traceback": [
      "\u001b[0;31m---------------------------------------------------------------------------\u001b[0m",
      "\u001b[0;31mAttributeError\u001b[0m                            Traceback (most recent call last)",
      "Input \u001b[0;32mIn [2]\u001b[0m, in \u001b[0;36m<cell line: 3>\u001b[0;34m()\u001b[0m\n\u001b[1;32m      1\u001b[0m \u001b[38;5;28;01mfrom\u001b[39;00m \u001b[38;5;21;01mstreamlit\u001b[39;00m \u001b[38;5;28;01mimport\u001b[39;00m caching\n\u001b[0;32m----> 3\u001b[0m \u001b[43mcaching\u001b[49m\u001b[38;5;241;43m.\u001b[39;49m\u001b[43mclear\u001b[49m()\n",
      "\u001b[0;31mAttributeError\u001b[0m: module 'streamlit.caching' has no attribute 'clear'"
     ]
    }
   ],
   "source": [
    "from streamlit import caching\n",
    "\n",
    "from streamlit import caching caching.clear_cache()"
   ]
  },
  {
   "cell_type": "code",
   "execution_count": null,
   "metadata": {},
   "outputs": [],
   "source": [
    "%load_ext autoreload"
   ]
  },
  {
   "cell_type": "code",
   "execution_count": null,
   "metadata": {},
   "outputs": [],
   "source": [
    "%autoreload 2"
   ]
  },
  {
   "cell_type": "markdown",
   "metadata": {
    "slideshow": {
     "slide_type": "slide"
    },
    "tags": []
   },
   "source": [
    "# Slides"
   ]
  },
  {
   "cell_type": "code",
   "execution_count": null,
   "metadata": {},
   "outputs": [],
   "source": []
  },
  {
   "cell_type": "code",
   "execution_count": null,
   "metadata": {},
   "outputs": [],
   "source": [
    "@st.experimental_memo"
   ]
  },
  {
   "cell_type": "code",
   "execution_count": null,
   "metadata": {
    "slideshow": {
     "slide_type": "subslide"
    },
    "tags": []
   },
   "outputs": [],
   "source": [
    "from pypoll.data import *"
   ]
  },
  {
   "cell_type": "code",
   "execution_count": null,
   "metadata": {},
   "outputs": [],
   "source": [
    "engine = db.create_engine('sqlite:///survey.sqlite3')\n",
    "if False:\n",
    "    !rm -r survey.sqlite3\n",
    "    create_db(engine)"
   ]
  },
  {
   "cell_type": "code",
   "execution_count": null,
   "metadata": {},
   "outputs": [],
   "source": [
    "if True:\n",
    "    add_question(session, \"Wo ist Köln\", [\"In Berlin\", \"Nirgends\", \"Am schönsten Fleck der Erde\"])"
   ]
  },
  {
   "cell_type": "code",
   "execution_count": null,
   "metadata": {},
   "outputs": [],
   "source": [
    "def vote(radio=\"England\"):\n",
    "    Session = sessionmaker(bind=engine)\n",
    "    session = Session()\n",
    "    q = get_one(session)\n",
    "    option = [o for o in q.options if o.text == radio][0]\n",
    "    option.votes += 1\n",
    "    session.commit()"
   ]
  },
  {
   "cell_type": "code",
   "execution_count": null,
   "metadata": {},
   "outputs": [],
   "source": [
    "def get_poll():\n",
    "    Session = sessionmaker(bind=engine)\n",
    "    session = Session()\n",
    "    q = get_one(session)\n",
    "\n",
    "    return {o.text: o.votes for o in q.options}\n",
    "get_poll()"
   ]
  },
  {
   "cell_type": "markdown",
   "metadata": {
    "tags": []
   },
   "source": [
    "# Get Single one"
   ]
  },
  {
   "cell_type": "code",
   "execution_count": null,
   "metadata": {},
   "outputs": [],
   "source": [
    "import panel as pn\n",
    "import param"
   ]
  },
  {
   "cell_type": "code",
   "execution_count": null,
   "metadata": {},
   "outputs": [],
   "source": [
    "pn.extension()"
   ]
  },
  {
   "cell_type": "code",
   "execution_count": null,
   "metadata": {},
   "outputs": [],
   "source": [
    "print(instance.question, instance.options)"
   ]
  },
  {
   "cell_type": "code",
   "execution_count": null,
   "metadata": {},
   "outputs": [],
   "source": [
    "question = instance\n",
    "class QuestionDashboard(param.Parameterized):\n",
    "    \"\"\"An example Parameterized class\"\"\"\n",
    "    timestamps = []\n",
    "\n",
    "    question = param.String(question.question)\n",
    "    color    = param.List(list(instance.options), item_type=str, bounds=(0,10))\n",
    "    \n",
    "    \n",
    "p = QuestionDashboard()\n",
    "pn.pane.Pane(p)"
   ]
  },
  {
   "cell_type": "code",
   "execution_count": null,
   "metadata": {},
   "outputs": [],
   "source": [
    "class QuestionDashboard(param.Parameterized):\n",
    "    \"\"\"An example Parameterized class\"\"\"\n",
    "    timestamps = []\n",
    "    question = None\n",
    "    color = None\n",
    "\n",
    "    def __init__(self, question, **params):\n",
    "        self.question = param.String(question.question)\n",
    "        self.color    = param.List(list(question.options), item_type=str, bounds=(0,10))\n",
    "        super(QuestionDashboard, self).__init__(**params)\n",
    "        \n",
    "    \n",
    "p = QuestionDashboard(instance)\n",
    "pn.pane.Pane(p)"
   ]
  },
  {
   "cell_type": "code",
   "execution_count": null,
   "metadata": {},
   "outputs": [],
   "source": [
    "def get_survey(question)\n",
    "    return pn.Column(instance.question, instance.options)"
   ]
  },
  {
   "cell_type": "markdown",
   "metadata": {},
   "source": [
    "# List all"
   ]
  },
  {
   "cell_type": "code",
   "execution_count": null,
   "metadata": {},
   "outputs": [],
   "source": []
  }
 ],
 "metadata": {
  "kernelspec": {
   "display_name": "pypoll",
   "language": "python",
   "name": "pypoll"
  },
  "language_info": {
   "codemirror_mode": {
    "name": "ipython",
    "version": 3
   },
   "file_extension": ".py",
   "mimetype": "text/x-python",
   "name": "python",
   "nbconvert_exporter": "python",
   "pygments_lexer": "ipython3",
   "version": "3.9.12"
  }
 },
 "nbformat": 4,
 "nbformat_minor": 4
}
